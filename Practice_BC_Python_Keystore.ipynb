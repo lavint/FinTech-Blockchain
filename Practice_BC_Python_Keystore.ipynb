{
 "cells": [
  {
   "cell_type": "code",
   "execution_count": 16,
   "metadata": {},
   "outputs": [
    {
     "name": "stdout",
     "output_type": "stream",
     "text": [
      "656\n"
     ]
    },
    {
     "name": "stdin",
     "output_type": "stream",
     "text": [
      "Enter keystore password:  ············\n"
     ]
    },
    {
     "name": "stdout",
     "output_type": "stream",
     "text": [
      "0xe98a4f7230a95a5174b5e015ff3ca1b8d84721f1e706e68f4e0fe30b68b22f1d\n"
     ]
    },
    {
     "data": {
      "text/plain": [
       "'0xe98a4f7230a95a5174b5e015ff3ca1b8d84721f1e706e68f4e0fe30b68b22f1d'"
      ]
     },
     "execution_count": 16,
     "metadata": {},
     "output_type": "execute_result"
    }
   ],
   "source": [
    "import os\n",
    "from web3 import Web3\n",
    "from dotenv import load_dotenv\n",
    "from web3.middleware import geth_poa_middleware\n",
    "from eth_account import Account\n",
    "\n",
    "from pathlib import Path\n",
    "from getpass import getpass\n",
    "\n",
    "load_dotenv()\n",
    "\n",
    "w3 = Web3(Web3.HTTPProvider(\"http://127.0.0.1:8545\"))\n",
    "w3.middleware_onion.inject(geth_poa_middleware, layer=0)\n",
    "\n",
    "print(w3.eth.blockNumber)\n",
    "\n",
    "private_key = os.getenv(\"PRIVATE_KEY\")\n",
    "account_one = Account.from_key(private_key)\n",
    "\n",
    "\n",
    "with open(Path(\"UTC--2020-07-24T22-21-30.645Z--KeyStoreFile\")) as keyfile:\n",
    "    encrypted_key = keyfile.read()\n",
    "    private_key = w3.eth.account.decrypt(\n",
    "        encrypted_key, getpass(\"Enter keystore password: \")\n",
    "    )\n",
    "    account_two = Account.from_key(private_key)\n",
    "\n",
    "    \n",
    "\n",
    "def create_raw_tx(account, recipient, amount):\n",
    "    gasEstimate = w3.eth.estimateGas(\n",
    "        {\"from\": account.address, \"to\": recipient, \"value\": amount}\n",
    "    )\n",
    "    return {\n",
    "        \"from\": account.address,\n",
    "        \"to\": recipient,\n",
    "        \"value\": amount,\n",
    "        \"gasPrice\": w3.eth.gasPrice,\n",
    "        \"gas\": gasEstimate,\n",
    "        \"nonce\": w3.eth.getTransactionCount(account.address),\n",
    "    }\n",
    "\n",
    "\n",
    "def send_tx(account, recipient, amount):\n",
    "    tx = create_raw_tx(account, recipient, amount)\n",
    "    signed_tx = account.sign_transaction(tx)\n",
    "    result = w3.eth.sendRawTransaction(signed_tx.rawTransaction)\n",
    "    print(result.hex())\n",
    "    return result.hex()\n",
    "\n",
    "send_tx(account_one, account_two.address, 555555555555555)"
   ]
  },
  {
   "cell_type": "code",
   "execution_count": 17,
   "metadata": {},
   "outputs": [
    {
     "name": "stdout",
     "output_type": "stream",
     "text": [
      "0xffc5F361b2804Fe240595df4514665E74E7C5eE5\n",
      "0xb42562bC046f18f31ECF0a0126557bef3676D7e8\n"
     ]
    }
   ],
   "source": [
    "print(account_one.address)\n",
    "print(account_two.address)"
   ]
  },
  {
   "cell_type": "code",
   "execution_count": 18,
   "metadata": {},
   "outputs": [
    {
     "data": {
      "text/plain": [
       "AttributeDict({'blockHash': HexBytes('0x187d816c9f3f93869a472e29a722af4b2e5c683dd87b29e04f9dc0527d03b5dc'),\n",
       " 'blockNumber': 658,\n",
       " 'contractAddress': None,\n",
       " 'cumulativeGasUsed': 21000,\n",
       " 'from': '0xffc5F361b2804Fe240595df4514665E74E7C5eE5',\n",
       " 'gasUsed': 21000,\n",
       " 'logs': [],\n",
       " 'logsBloom': HexBytes('0x00000000000000000000000000000000000000000000000000000000000000000000000000000000000000000000000000000000000000000000000000000000000000000000000000000000000000000000000000000000000000000000000000000000000000000000000000000000000000000000000000000000000000000000000000000000000000000000000000000000000000000000000000000000000000000000000000000000000000000000000000000000000000000000000000000000000000000000000000000000000000000000000000000000000000000000000000000000000000000000000000000000000000000000000000000000'),\n",
       " 'status': 1,\n",
       " 'to': '0xb42562bC046f18f31ECF0a0126557bef3676D7e8',\n",
       " 'transactionHash': HexBytes('0xe98a4f7230a95a5174b5e015ff3ca1b8d84721f1e706e68f4e0fe30b68b22f1d'),\n",
       " 'transactionIndex': 0})"
      ]
     },
     "execution_count": 18,
     "metadata": {},
     "output_type": "execute_result"
    }
   ],
   "source": [
    "w3.eth.getTransactionReceipt(\"0xe98a4f7230a95a5174b5e015ff3ca1b8d84721f1e706e68f4e0fe30b68b22f1d\")"
   ]
  },
  {
   "cell_type": "code",
   "execution_count": 19,
   "metadata": {},
   "outputs": [
    {
     "data": {
      "text/plain": [
       "'0xb42562bC046f18f31ECF0a0126557bef3676D7e8'"
      ]
     },
     "execution_count": 19,
     "metadata": {},
     "output_type": "execute_result"
    }
   ],
   "source": [
    "# Convert the hash to the correct format\n",
    "Web3.toChecksumAddress(\"0xb42562bC046f18f31ECF0a0126557bef3676d7E8\")"
   ]
  },
  {
   "cell_type": "code",
   "execution_count": 21,
   "metadata": {},
   "outputs": [
    {
     "data": {
      "text/plain": [
       "661"
      ]
     },
     "execution_count": 21,
     "metadata": {},
     "output_type": "execute_result"
    }
   ],
   "source": [
    "w3.eth.blockNumber"
   ]
  },
  {
   "cell_type": "code",
   "execution_count": null,
   "metadata": {},
   "outputs": [],
   "source": [
    "w3.eth.getBalance(\"0xffc5F361b2804Fe240595df4514665E74E7C5eE5\")"
   ]
  },
  {
   "cell_type": "code",
   "execution_count": null,
   "metadata": {},
   "outputs": [],
   "source": [
    "w3.eth.getBalance(\"0xb42562bC046f18f31ECF0a0126557bef3676D7e8\")"
   ]
  }
 ],
 "metadata": {
  "kernelspec": {
   "display_name": "Python 3",
   "language": "python",
   "name": "python3"
  },
  "language_info": {
   "codemirror_mode": {
    "name": "ipython",
    "version": 3
   },
   "file_extension": ".py",
   "mimetype": "text/x-python",
   "name": "python",
   "nbconvert_exporter": "python",
   "pygments_lexer": "ipython3",
   "version": "3.7.6"
  }
 },
 "nbformat": 4,
 "nbformat_minor": 4
}
