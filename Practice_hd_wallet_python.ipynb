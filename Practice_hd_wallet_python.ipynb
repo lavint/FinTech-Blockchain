{
 "cells": [
  {
   "cell_type": "code",
   "execution_count": null,
   "metadata": {},
   "outputs": [],
   "source": [
    "import subprocess\n",
    "\n",
    "# Windows\n",
    "command = 'php ..\\..\\..\\..\\..\\derive -g --mnemonic=\"YOUR MNEMONIC PHRASE\" --cols=path,address,privkey,pubkey --format=json'\n",
    "\n",
    "# MAC\n",
    "# command = './derive -g --mnemonic=\"YOUR MNEMONIC PHRASE\" --cols=path,address,privkey,pubkey'\n",
    "\n",
    "p = subprocess.Popen(command, stdout=subprocess.PIPE, shell=True)\n",
    "(output, err) = p.communicate()\n",
    "p_status = p.wait()\n",
    "\n",
    "print(output)\n"
   ]
  },
  {
   "cell_type": "code",
   "execution_count": null,
   "metadata": {},
   "outputs": [],
   "source": [
    "import json\n",
    "keys = json.loads(output)\n",
    "keys\n",
    "print(keys)\n",
    "print()\n",
    "print(keys[0]['address'])"
   ]
  }
 ],
 "metadata": {
  "kernelspec": {
   "display_name": "Python 3",
   "language": "python",
   "name": "python3"
  },
  "language_info": {
   "codemirror_mode": {
    "name": "ipython",
    "version": 3
   },
   "file_extension": ".py",
   "mimetype": "text/x-python",
   "name": "python",
   "nbconvert_exporter": "python",
   "pygments_lexer": "ipython3",
   "version": "3.7.6"
  }
 },
 "nbformat": 4,
 "nbformat_minor": 4
}
